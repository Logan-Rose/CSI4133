{
 "cells": [
  {
   "cell_type": "code",
   "execution_count": 30,
   "metadata": {},
   "outputs": [],
   "source": [
    "import cv2\n",
    "\n",
    "import numpy as np"
   ]
  },
  {
   "cell_type": "code",
   "execution_count": 31,
   "metadata": {},
   "outputs": [],
   "source": [
    "# Reused from Lab 2 submission\n",
    "def getDiff(thresh, frm1, frm2):\n",
    "  img1 = cv2.cvtColor(frm1, cv2.COLOR_BGR2GRAY)\n",
    "  img2 = cv2.cvtColor(frm2, cv2.COLOR_BGR2GRAY)\n",
    "  \n",
    "  height = len(img1)\n",
    "  width = len(img2[0])\n",
    "  diffImg = np.zeros((height,width))\n",
    "  for i in range(height):\n",
    "    for j in range(width):\n",
    "      diff = abs(int(img1[i][j]) - int(img2[i][j]))\n",
    "      if diff > thresh:\n",
    "        diffImg[i,j] = 1\n",
    "      else:\n",
    "        diffImg[i,j] = 0\n",
    "  return diffImg"
   ]
  },
  {
   "cell_type": "code",
   "execution_count": 32,
   "metadata": {},
   "outputs": [
    {
     "name": "stdout",
     "output_type": "stream",
     "text": [
      "True\n"
     ]
    }
   ],
   "source": [
    "# Open the input video. \n",
    "vid = cv2.VideoCapture(\"./video/park.avi\")\n",
    "\n",
    "# Obtain the properties of the video, such as the...\n",
    "# frame size:\n",
    "\n",
    "width = vid.get(cv2.CAP_PROP_FRAME_WIDTH)\n",
    "height = vid.get(cv2.CAP_PROP_FRAME_HEIGHT)\n",
    "fps = vid.get(cv2.CAP_PROP_FPS)\n",
    "\n",
    "# the number of frames, etc.\n",
    "frames = vid.get(cv2.CAP_PROP_FRAME_COUNT)\n",
    "# Obtain the index of the frame (0-based index).\n",
    "\n",
    "ret, cap = vid.read()\n",
    "\n",
    "writer = cv2.VideoWriter('./video/out.avi', cv2.VideoWriter_fourcc(*'MJPG'), fps, (int(width), int(height)))\n",
    "\n",
    "print(ret)\n",
    "i = 0\n",
    "while ret == True:\n",
    "    prev = cap\n",
    "    ret, cap = vid.read()\n",
    "    if ret:\n",
    "      imgDiff = getDiff(31, prev, cap)\n",
    "\n",
    "      # convert values to color range in 255\n",
    "      image = np.uint8(imgDiff*255)\n",
    "\n",
    "      # Convert to 3 chanel image\n",
    "      image = np.stack((image,)*3, axis=-1)\n",
    "\n",
    "      # Write to image\n",
    "      writer.write(image)\n",
    "\n",
    "writer.release()\n"
   ]
  }
 ],
 "metadata": {
  "kernelspec": {
   "display_name": "Python 3.10.6 ('CSI4133')",
   "language": "python",
   "name": "python3"
  },
  "language_info": {
   "codemirror_mode": {
    "name": "ipython",
    "version": 3
   },
   "file_extension": ".py",
   "mimetype": "text/x-python",
   "name": "python",
   "nbconvert_exporter": "python",
   "pygments_lexer": "ipython3",
   "version": "3.10.6"
  },
  "orig_nbformat": 4,
  "vscode": {
   "interpreter": {
    "hash": "7b23fde2f4599871cc70c464153df6beb3e81aac3571128b69cb268200f4cff7"
   }
  }
 },
 "nbformat": 4,
 "nbformat_minor": 2
}
