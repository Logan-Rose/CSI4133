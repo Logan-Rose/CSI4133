{
 "cells": [
  {
   "cell_type": "code",
   "execution_count": 85,
   "metadata": {},
   "outputs": [],
   "source": [
    "import cv2 as cv\n",
    "import numpy as np\n",
    "\n",
    "# Mediapipe Hands Documentation fund at https://google.github.io/mediapipe/solutions/hands.html\n",
    "import mediapipe as mp\n",
    "mp_hands = mp.solutions.hands"
   ]
  },
  {
   "cell_type": "code",
   "execution_count": 89,
   "metadata": {},
   "outputs": [
    {
     "ename": "",
     "evalue": "",
     "output_type": "error",
     "traceback": [
      "\u001b[1;31mThe Kernel crashed while executing code in the the current cell or a previous cell. Please review the code in the cell(s) to identify a possible cause of the failure. Click <a href='https://aka.ms/vscodeJupyterKernelCrash'>here</a> for more info. View Jupyter <a href='command:jupyter.viewOutput'>log</a> for further details."
     ]
    }
   ],
   "source": [
    "def getHands(current, width, height):\n",
    "  foundHands = []\n",
    "  center = (0,0)  \n",
    "  if current.multi_hand_landmarks:\n",
    "    # iterates througheach hand\n",
    "    for hand_no, hand in enumerate(current.multi_hand_landmarks):\n",
    "      handedness = current.multi_handedness[hand_no].classification.pop(0).label\n",
    "      detectedHands = []\n",
    "      for landmark in hand.landmark:\n",
    "        detectedHands.append((int(landmark.x * width), int(landmark.y * height), int(landmark.z * width)))\n",
    "      #Calculate the min/max x and y values to draw a bounding box around the hand\n",
    "      xMin = int(np.min(np.array(detectedHands)[:, 0]))\n",
    "      yMin = int(np.min(np.array(detectedHands)[:, 1]))\n",
    "      xMax = int(np.max(np.array(detectedHands)[:, 0]))\n",
    "      yMax = int(np.max(np.array(detectedHands)[:, 1]))\n",
    "      #Calculate the center of the boundign box, to track the hand\n",
    "      center = (xMin + (xMax-xMin)//2, yMin + (yMax-yMin)//2)\n",
    "      foundHands.append(((xMin, yMin), (xMax, yMax),center, handedness))\n",
    "  \n",
    "  return foundHands\n",
    "def capture():\n",
    "    # video = cv.VideoCapture(0)\n",
    "    video = cv.VideoCapture(\"./videos_partA.mp4\")\n",
    "    running, original = video.read()\n",
    "    height, width, _ = original.shape\n",
    "\n",
    "    out = cv.VideoWriter('out.avi',cv.VideoWriter_fourcc('M','J','P','G'), video.get(cv.CAP_PROP_FPS), (width,height))\n",
    "\n",
    "    # Initilize Mediapipe hands\n",
    "    hands = mp.solutions.hands.Hands(min_detection_confidence=0.5, min_tracking_confidence=0.25)\n",
    "\n",
    "    positions = {'Left': [], 'Right' :[]}\n",
    "\n",
    "    while True:\n",
    "      running, frame = video.read()\n",
    "      if not running:\n",
    "        break\n",
    "      # hand processing\n",
    "      tracker = hands.process(frame)\n",
    "      detectedHands = getHands(tracker, width, height)\n",
    "\n",
    "      for hand in detectedHands:\n",
    "        cv.rectangle(frame, hand[0], hand[1], (0,255,0), 2)\n",
    "        if hand[3] in positions:\n",
    "          positions[hand[3]].append(hand[2])\n",
    "\n",
    "\n",
    "\n",
    "      for pos in positions:\n",
    "        if len(positions[pos]) >1:\n",
    "          pointsInside = positions[pos]\n",
    "          for index, item in enumerate(pointsInside): \n",
    "            if index == len(pointsInside) -1:\n",
    "              break\n",
    "            if pos == 'Left':\n",
    "              cv.line(frame, item, pointsInside[index + 1], [255, 0,0], 2) \n",
    "            elif pos == 'Right':\n",
    "              cv.line(frame, item, pointsInside[index + 1], [255, 0,190], 2)\n",
    "      \n",
    "      cv.imshow(\"Video Feed\", frame)\n",
    "      out.write(frame)\n",
    "      k = cv.waitKey(1) & 0xff\n",
    "      if k == 27:\n",
    "        break\n",
    "\n",
    "    video.release()\n",
    "    out.release()\n",
    "    cv.destroyAllWindows()\n",
    "capture()\n",
    " \n",
    "\n"
   ]
  }
 ],
 "metadata": {
  "kernelspec": {
   "display_name": "Python 3.10.6 ('csi4133')",
   "language": "python",
   "name": "python3"
  },
  "language_info": {
   "codemirror_mode": {
    "name": "ipython",
    "version": 3
   },
   "file_extension": ".py",
   "mimetype": "text/x-python",
   "name": "python",
   "nbconvert_exporter": "python",
   "pygments_lexer": "ipython3",
   "version": "3.10.6"
  },
  "orig_nbformat": 4,
  "vscode": {
   "interpreter": {
    "hash": "dcd146c02ac49975ceea5d380366912d5558ef9547c5533d0e4eab161d1a506c"
   }
  }
 },
 "nbformat": 4,
 "nbformat_minor": 2
}
