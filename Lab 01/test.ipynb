{
 "cells": [
  {
   "cell_type": "markdown",
   "metadata": {},
   "source": [
    "### Imports"
   ]
  },
  {
   "cell_type": "code",
   "execution_count": 2,
   "metadata": {},
   "outputs": [],
   "source": [
    "import cv2\n",
    "import numpy as np"
   ]
  },
  {
   "cell_type": "markdown",
   "metadata": {},
   "source": [
    "### Task 1: Display Image"
   ]
  },
  {
   "cell_type": "code",
   "execution_count": 3,
   "metadata": {},
   "outputs": [],
   "source": [
    "# Read the image\n",
    "img = cv2.imread('./field.jpg')\n",
    "\n",
    "# Display the image\n",
    "cv2.imshow('sample image',img)\n",
    "\n",
    "# Wait until a key is pressed \n",
    "cv2.waitKey(0)\n",
    "\n",
    "# Close the window\n",
    "cv2.destroyAllWindows() "
   ]
  },
  {
   "cell_type": "markdown",
   "metadata": {},
   "source": [
    "### Task 2: Down-size Image"
   ]
  },
  {
   "cell_type": "code",
   "execution_count": 26,
   "metadata": {},
   "outputs": [],
   "source": [
    "img2 = cv2.resize(img, (0,0), fx=0.25, fy=0.25)\n",
    "\n",
    "cv2.imshow('sample image',img2)\n",
    "\n",
    "# Wait until a key is pressed \n",
    "cv2.waitKey(0)\n",
    "\n",
    "# Close the window\n",
    "cv2.destroyAllWindows() \n",
    "\n",
    "# Re expanding\n",
    "\n",
    "\n",
    "img3 = cv2.resize(img2, (0,0), fx=4, fy=4)\n",
    "\n",
    "cv2.imshow('sample image',img3)\n",
    "\n",
    "# Wait until a key is pressed \n",
    "cv2.waitKey(0)\n",
    "\n",
    "# Close the window\n",
    "cv2.destroyAllWindows() \n"
   ]
  },
  {
   "cell_type": "markdown",
   "metadata": {},
   "source": [
    "### Task 3: Quantize Image"
   ]
  },
  {
   "cell_type": "code",
   "execution_count": 27,
   "metadata": {},
   "outputs": [],
   "source": [
    "\n",
    "img4 = (img // 32 * 32) + (32 // 2)\n",
    "cv2.imshow('sample image',img4)\n",
    "# Wait until a key is pressed \n",
    "cv2.waitKey(0)\n",
    "# Close the window\n",
    "cv2.destroyAllWindows() "
   ]
  },
  {
   "cell_type": "markdown",
   "metadata": {},
   "source": [
    "### Save Images"
   ]
  },
  {
   "cell_type": "code",
   "execution_count": 31,
   "metadata": {},
   "outputs": [],
   "source": [
    "images = [img, img2, img3, img4]\n",
    "for i in range(len(images)):\n",
    "  cv2.imwrite('./images/image-'+ str((i + 1)) +'.jpg', images[i])"
   ]
  }
 ],
 "metadata": {
  "kernelspec": {
   "display_name": "Python 3.9.7 ('csi4106')",
   "language": "python",
   "name": "python3"
  },
  "language_info": {
   "codemirror_mode": {
    "name": "ipython",
    "version": 3
   },
   "file_extension": ".py",
   "mimetype": "text/x-python",
   "name": "python",
   "nbconvert_exporter": "python",
   "pygments_lexer": "ipython3",
   "version": "3.9.7"
  },
  "orig_nbformat": 4,
  "vscode": {
   "interpreter": {
    "hash": "49a3a705aea8429fdb3c7e483c1ae4b76125bf0df627190924543e8c2539ab5e"
   }
  }
 },
 "nbformat": 4,
 "nbformat_minor": 2
}
