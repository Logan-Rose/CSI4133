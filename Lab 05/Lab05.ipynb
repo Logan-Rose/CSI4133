{
 "cells": [
  {
   "cell_type": "markdown",
   "metadata": {},
   "source": [
    "## Import Modules"
   ]
  },
  {
   "cell_type": "code",
   "execution_count": 1,
   "metadata": {},
   "outputs": [],
   "source": [
    "import cv2 as cv\n",
    "import numpy as np"
   ]
  },
  {
   "cell_type": "markdown",
   "metadata": {},
   "source": [
    "## Part A"
   ]
  },
  {
   "cell_type": "code",
   "execution_count": 74,
   "metadata": {},
   "outputs": [],
   "source": [
    "def detectCircles(img, minDist, p1, p2, minRad, maxRad):\n",
    "  grayscale = cv.cvtColor(img, cv.COLOR_BGR2GRAY)\n",
    "  circles = cv.HoughCircles(grayscale,cv.HOUGH_GRADIENT,1,minDist,\n",
    "                              param1=p1,param2=p2,minRadius=minRad,maxRadius=maxRad)\n",
    "  circles = np.uint16(np.around(circles))[0]\n",
    "  for circle in circles:\n",
    "    x = circle[0]\n",
    "    y = circle[1]\n",
    "    radius = circle[2]\n",
    "    cv.circle(img,(x,y),3,(0,0,255),4)\n",
    "    cv.circle(img,(x,y),radius,(0,255,0),4)\n",
    "  return img\n",
    "\n",
    "def displayImg(img):\n",
    "  cv.imshow('Detected Circles',img)\n",
    "  cv.waitKey(0)\n",
    "  cv.destroyAllWindows()\n",
    "\n",
    "target = cv.imread('./images/circles_target.jpg', cv.IMREAD_COLOR)\n",
    "circlesDetected = detectCircles(target, 20, 50, 30, 40, 65)\n",
    "displayImg(circlesDetected)\n"
   ]
  },
  {
   "cell_type": "markdown",
   "metadata": {},
   "source": [
    "## Part B"
   ]
  },
  {
   "cell_type": "code",
   "execution_count": 78,
   "metadata": {},
   "outputs": [],
   "source": [
    "def detectLines(img, thresh1, thresh2, apSize, rho, theta, thresh3):\n",
    "  grayscale = cv.cvtColor(img, cv.COLOR_BGR2GRAY)\n",
    "  edges = cv.Canny(grayscale, thresh1, thresh2, apertureSize=apSize)\n",
    "  lines = cv.HoughLines(edges, rho, theta, thresh3)\n",
    "  slopeInterceptLines = []\n",
    "  for line in lines:\n",
    "    arr = np.array(line[0], dtype=np.float64)\n",
    "    r, theta = arr\n",
    "    a = np.cos(theta)\n",
    "    b = np.sin(theta)\n",
    "    # Covnert from polar coordinates to cartesian coordinates\n",
    "    # Multiply by 1000 to make sure line streches across whole image\n",
    "    x1 = int(a*r + 1000*(-b))\n",
    "    y1 = int(b*r + 1000*(a))\n",
    "    x2 = int(a*r - 1000*(-b))\n",
    "    y2 = int(b*r - 1000*(a))\n",
    "    slopeInterceptLines.append(((x1,y1),(x2,y2)))\n",
    "\n",
    "  for line in slopeInterceptLines:\n",
    "    ((x1, y1), (x2, y2)) = line\n",
    "    cv.line(img, (x1, y1), (x2, y2), (0, 255, 0), 1)\n",
    "\n",
    "  return img\n",
    "\n",
    "def displayImg(img):\n",
    "  cv.imshow('Detected Circles',img)\n",
    "  cv.waitKey(0)\n",
    "  cv.destroyAllWindows()\n",
    "\n",
    "target = cv.imread('./images/lines_target.jpg', cv.IMREAD_COLOR)\n",
    "isolated = detectLines(target, 100000, 10000,7, 1.2, np.pi/180, 130)\n",
    "displayImg(isolated)\n"
   ]
  }
 ],
 "metadata": {
  "kernelspec": {
   "display_name": "Python 3.10.6 ('csi4133')",
   "language": "python",
   "name": "python3"
  },
  "language_info": {
   "codemirror_mode": {
    "name": "ipython",
    "version": 3
   },
   "file_extension": ".py",
   "mimetype": "text/x-python",
   "name": "python",
   "nbconvert_exporter": "python",
   "pygments_lexer": "ipython3",
   "version": "3.10.6"
  },
  "orig_nbformat": 4,
  "vscode": {
   "interpreter": {
    "hash": "dcd146c02ac49975ceea5d380366912d5558ef9547c5533d0e4eab161d1a506c"
   }
  }
 },
 "nbformat": 4,
 "nbformat_minor": 2
}
