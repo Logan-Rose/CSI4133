{
 "cells": [
  {
   "cell_type": "markdown",
   "metadata": {},
   "source": [
    "## Import Modules"
   ]
  },
  {
   "cell_type": "code",
   "execution_count": 105,
   "metadata": {},
   "outputs": [],
   "source": [
    "import cv2 as cv\n",
    "import numpy as np"
   ]
  },
  {
   "cell_type": "markdown",
   "metadata": {},
   "source": [
    "## Part A"
   ]
  },
  {
   "cell_type": "code",
   "execution_count": 173,
   "metadata": {},
   "outputs": [],
   "source": [
    "def isolate(img, minDist, p1, p2, minRad, maxRad):\n",
    "  grayscale = cv.cvtColor(img, cv.COLOR_BGR2GRAY)\n",
    "  circles = cv.HoughCircles(grayscale,cv.HOUGH_GRADIENT,1,minDist,\n",
    "                              param1=p1,param2=p2,minRadius=minRad,maxRadius=maxRad)\n",
    "  circles = np.uint16(np.around(circles))[0]\n",
    "  for circle in circles:\n",
    "    x = circle[0]\n",
    "    y = circle[1]\n",
    "    rad = circle[2]\n",
    "    # Draw the red circle at the center of the object\n",
    "    cv.circle(img,(x,y),3,(0,0,255),4)\n",
    "    # Draw the green circle around the object\n",
    "    cv.circle(img,(x,y),rad,(0,255,0),4)\n",
    "  return img\n",
    "\n",
    "def displayImg(img):\n",
    "  cv.imshow('Detected Circles',img)\n",
    "  cv.waitKey(0)\n",
    "  cv.destroyAllWindows()\n",
    "\n",
    "target = cv.imread('./images/circles_target.jpg', cv.IMREAD_COLOR)\n",
    "isolated = isolate(target, 20, 50, 30, 40, 65)\n",
    "displayImg(isolated)\n"
   ]
  },
  {
   "cell_type": "markdown",
   "metadata": {},
   "source": [
    "## Part B"
   ]
  },
  {
   "cell_type": "code",
   "execution_count": 310,
   "metadata": {},
   "outputs": [
    {
     "name": "stdout",
     "output_type": "stream",
     "text": [
      "[[[-3.2760001e+02  2.4713862e+00]]\n",
      "\n",
      " [[ 2.4960001e+02  0.0000000e+00]]\n",
      "\n",
      " [[-1.6920001e+02  2.4609141e+00]]\n",
      "\n",
      " [[-6.3600002e+01  3.1311207e+00]]\n",
      "\n",
      " [[-3.2280002e+02  2.4713862e+00]]\n",
      "\n",
      " [[ 3.8880002e+02  1.5812683e+00]]\n",
      "\n",
      " [[-3.1800000e+02  2.4609141e+00]]\n",
      "\n",
      " [[-1.8000000e+02  2.4713862e+00]]\n",
      "\n",
      " [[-1.7520001e+02  2.4609141e+00]]\n",
      "\n",
      " [[ 1.2480000e+02  1.5707964e+00]]\n",
      "\n",
      " [[-1.6440001e+02  2.4504423e+00]]\n",
      "\n",
      " [[ 3.9360001e+02  1.5707964e+00]]\n",
      "\n",
      " [[-3.3240002e+02  2.4818583e+00]]\n",
      "\n",
      " [[ 2.9760001e+02  1.5707964e+00]]\n",
      "\n",
      " [[-1.7400000e+02  2.4713862e+00]]\n",
      "\n",
      " [[ 3.2640002e+02  8.9011788e-01]]\n",
      "\n",
      " [[ 3.2880002e+02  8.7964594e-01]]\n",
      "\n",
      " [[ 3.3360001e+02  8.9011788e-01]]\n",
      "\n",
      " [[-1.7160001e+02  2.4504423e+00]]\n",
      "\n",
      " [[ 2.9280002e+02  1.5707964e+00]]\n",
      "\n",
      " [[ 5.5680005e+02  9.0058988e-01]]\n",
      "\n",
      " [[ 3.3600000e+02  8.7964594e-01]]\n",
      "\n",
      " [[ 2.5320001e+02  1.0471975e-02]]]\n"
     ]
    }
   ],
   "source": [
    "def isolate(img, minDist, p1, p2, minRad, maxRad):\n",
    "  grayscale = cv.cvtColor(img, cv.COLOR_BGR2GRAY)\n",
    "  edges = cv.Canny(grayscale, 12000, 2500, apertureSize=7)\n",
    "  lines = cv.HoughLines(edges, 1.2, .6*np.pi/180, 130)\n",
    "  print(lines)\n",
    "  for r_theta in lines:\n",
    "    arr = np.array(r_theta[0], dtype=np.float64)\n",
    "    r, theta = arr\n",
    "    a = np.cos(theta)\n",
    "    b = np.sin(theta)\n",
    "    x1 = int(a*r + 1000*(-b))\n",
    "    y1 = int(b*r + 1000*(a))\n",
    "    x2 = int(a*r - 1000*(-b))\n",
    "    y2 = int(b*r - 1000*(a))\n",
    " \n",
    "    cv.line(img, (x1, y1), (x2, y2), (0, 255, 0), 1)\n",
    "  return img\n",
    "\n",
    "def displayImg(img):\n",
    "  cv.imshow('Detected Circles',img)\n",
    "  cv.waitKey(0)\n",
    "  cv.destroyAllWindows()\n",
    "\n",
    "target = cv.imread('./images/lines_target.jpg', cv.IMREAD_COLOR)\n",
    "isolated = isolate(target, 20, 50, 30, 40, 65)\n",
    "displayImg(isolated)\n"
   ]
  },
  {
   "cell_type": "code",
   "execution_count": null,
   "metadata": {},
   "outputs": [],
   "source": []
  }
 ],
 "metadata": {
  "kernelspec": {
   "display_name": "Python 3.10.6 ('CSI4133')",
   "language": "python",
   "name": "python3"
  },
  "language_info": {
   "codemirror_mode": {
    "name": "ipython",
    "version": 3
   },
   "file_extension": ".py",
   "mimetype": "text/x-python",
   "name": "python",
   "nbconvert_exporter": "python",
   "pygments_lexer": "ipython3",
   "version": "3.10.6"
  },
  "orig_nbformat": 4,
  "vscode": {
   "interpreter": {
    "hash": "7b23fde2f4599871cc70c464153df6beb3e81aac3571128b69cb268200f4cff7"
   }
  }
 },
 "nbformat": 4,
 "nbformat_minor": 2
}
