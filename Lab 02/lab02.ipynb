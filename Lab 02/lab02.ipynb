{
 "cells": [
  {
   "cell_type": "markdown",
   "metadata": {},
   "source": [
    "### Import Modules"
   ]
  },
  {
   "cell_type": "code",
   "execution_count": 1,
   "metadata": {},
   "outputs": [],
   "source": [
    "import cv2\n",
    "import numpy as np"
   ]
  },
  {
   "cell_type": "markdown",
   "metadata": {},
   "source": [
    "### Load Images"
   ]
  },
  {
   "cell_type": "code",
   "execution_count": 2,
   "metadata": {},
   "outputs": [],
   "source": [
    "# Read the first image\n",
    "park1 = cv2.imread('./images01/park466.bmp')\n",
    "park2 = cv2.imread('./images01/park467.bmp')\n",
    "\n",
    "car1 = cv2.imread('./images01/Img02_0076.bmp')\n",
    "car2 = cv2.imread('./images01/Img02_0077.bmp')\n",
    "\n",
    "park1 = cv2.cvtColor(park1, cv2.COLOR_BGR2GRAY)\n",
    "park2 = cv2.cvtColor(park2, cv2.COLOR_BGR2GRAY)\n",
    "\n",
    "car1 = cv2.cvtColor(car1, cv2.COLOR_BGR2GRAY)\n",
    "car2 = cv2.cvtColor(car2, cv2.COLOR_BGR2GRAY)\n"
   ]
  },
  {
   "cell_type": "markdown",
   "metadata": {},
   "source": [
    "### Detect Motion"
   ]
  },
  {
   "cell_type": "code",
   "execution_count": 3,
   "metadata": {},
   "outputs": [],
   "source": [
    "def getDiff(thresh, img1, img2):\n",
    "  height = len(img1)\n",
    "  width = len(img2[0])\n",
    "  diffImg = np.zeros((height,width))\n",
    "  for i in range(height):\n",
    "    for j in range(width):\n",
    "      diff = abs(int(img1[i][j]) - int(img2[i][j]))\n",
    "      if diff > thresh:\n",
    "        diffImg[i,j] = 1\n",
    "      else:\n",
    "        diffImg[i,j] = 0\n",
    "  return diffImg\n",
    "\n",
    "def detectMotion(imageType):\n",
    "  def onTrackbar(val):\n",
    "    image = getDiff(val, img1, img2)\n",
    "    cv2.imshow('window', image)\n",
    "  def display(): \n",
    "    cv2.namedWindow('window')\n",
    "    trackbarName = 'Threshold'\n",
    "    cv2.createTrackbar(trackbarName, 'window' , 16, 255, onTrackbar)\n",
    "  if imageType == 'park':\n",
    "    print('park')\n",
    "    img1 = park1\n",
    "    img2 = park2\n",
    "    display()\n",
    "  elif imageType == 'car':\n",
    "    img1 = car1\n",
    "    img2 = car2\n",
    "    display()\n",
    "  else:\n",
    "    print('invalid image type')\n",
    "\n",
    "  # Wait for the user to press a key, before closing\n",
    "  cv2.waitKey()\n",
    "  cv2.destroyAllWindows() "
   ]
  },
  {
   "cell_type": "markdown",
   "metadata": {},
   "source": [
    "### Detect Car Motion"
   ]
  },
  {
   "cell_type": "code",
   "execution_count": 4,
   "metadata": {},
   "outputs": [],
   "source": [
    "detectMotion('car')\n"
   ]
  },
  {
   "cell_type": "markdown",
   "metadata": {},
   "source": [
    "### Detect Park Motion"
   ]
  },
  {
   "cell_type": "code",
   "execution_count": null,
   "metadata": {},
   "outputs": [
    {
     "name": "stdout",
     "output_type": "stream",
     "text": [
      "park\n"
     ]
    },
    {
     "ename": "",
     "evalue": "",
     "output_type": "error",
     "traceback": [
      "\u001b[1;31mThe Kernel crashed while executing code in the the current cell or a previous cell. Please review the code in the cell(s) to identify a possible cause of the failure. Click <a href='https://aka.ms/vscodeJupyterKernelCrash'>here</a> for more info. View Jupyter <a href='command:jupyter.viewOutput'>log</a> for further details."
     ]
    },
    {
     "ename": "",
     "evalue": "",
     "output_type": "error",
     "traceback": [
      "\u001b[1;31mCanceled future for execute_request message before replies were done"
     ]
    }
   ],
   "source": [
    "detectMotion('park')"
   ]
  }
 ],
 "metadata": {
  "kernelspec": {
   "display_name": "Python 3.10.6 ('csi4133')",
   "language": "python",
   "name": "python3"
  },
  "language_info": {
   "codemirror_mode": {
    "name": "ipython",
    "version": 3
   },
   "file_extension": ".py",
   "mimetype": "text/x-python",
   "name": "python",
   "nbconvert_exporter": "python",
   "pygments_lexer": "ipython3",
   "version": "3.10.6"
  },
  "orig_nbformat": 4,
  "vscode": {
   "interpreter": {
    "hash": "dcd146c02ac49975ceea5d380366912d5558ef9547c5533d0e4eab161d1a506c"
   }
  }
 },
 "nbformat": 4,
 "nbformat_minor": 2
}
