{
 "cells": [
  {
   "cell_type": "code",
   "execution_count": 85,
   "metadata": {},
   "outputs": [],
   "source": [
    "import cv2\n",
    "import numpy as np\n"
   ]
  },
  {
   "cell_type": "markdown",
   "metadata": {},
   "source": [
    "## Task A\n"
   ]
  },
  {
   "cell_type": "markdown",
   "metadata": {},
   "source": [
    "### Utility Methods"
   ]
  },
  {
   "cell_type": "code",
   "execution_count": 188,
   "metadata": {},
   "outputs": [],
   "source": [
    "def displayImage(img):\n",
    "  cv2.imshow('sample image',img)\n",
    "  cv2.waitKey(0)\n",
    "  cv2.destroyAllWindows() \n",
    "\n",
    "# Convert RGB image to HSV\n",
    "def toHSV(img):\n",
    "  hsvImg = np.zeros(shape=img.shape)\n",
    "  for row in range(len(img)):\n",
    "    for col in range(len(img[row])):\n",
    "      hsvImg[row][col] = pixelToHSV(img[row][col])\n",
    "  return hsvImg\n",
    "\n",
    "# Convert HSV image to RGB\n",
    "def toRGB(img):\n",
    "  rgbImg = np.zeros(shape=img.shape)\n",
    "  for row in range(len(img)):\n",
    "    for col in range(len(img[row])):\n",
    "      rgbImg[row][col] = pixelToRGB(img[row][col])\n",
    "  return rgbImg\n",
    "\n",
    "def pixelToRGB(pixel):\n",
    "  h = pixel[0]\n",
    "  s = pixel[1]\n",
    "  v = pixel[2]\n",
    "  c = v * s\n",
    "  x = c * (1-abs((h/60) % 2 -1))\n",
    "  m = v - c\n",
    "  if h >= 0 and h < 60:\n",
    "    r, g, b = c, x, 0\n",
    "  elif h >= 60 and h < 120:\n",
    "    r, g, b = x, c, 0\n",
    "  elif h >= 120 and h < 180:\n",
    "    r, g, b = 0, c, x\n",
    "  elif h >= 180 and h < 240:\n",
    "    r, g, b = 0, x, c\n",
    "  elif h >= 240 and h < 300:\n",
    "    r, g, b = x, 0, c\n",
    "  elif h >= 300 and h < 360:\n",
    "    r, g, b = c, 0, x\n",
    "  \n",
    "  r = (r + m)*255\n",
    "  g = (g + m)*255\n",
    "  b = (b + m)*255\n",
    "  return [int(r),int(g),int(b)]\n",
    "  \n",
    "def pixelToHSV(pixel):\n",
    "  r = pixel[0]/255\n",
    "  g = pixel[1]/255\n",
    "  b = pixel[2]/255\n",
    "\n",
    "  cMax = max(r,g,b)\n",
    "  cMin = min(r,g,b)\n",
    "  num = float((r-g)+(r-b))\n",
    "  denom = 2*np.sqrt(pow((r-g), 2) + (r-b)*(g-b))\n",
    "  if denom == 0.0:\n",
    "    h = 0\n",
    "  else:\n",
    "    h = np.arccos(num/denom) * 57.2958\n",
    "  if b > g:\n",
    "    h = 360-h\n",
    "  if cMax == 0:\n",
    "    s = 0\n",
    "  else:\n",
    "    s = ((cMax-cMin)/cMax)\n",
    "  v = cMax\n",
    "  return [h,s,v]\n",
    "\n",
    "def isolate(img, hue):\n",
    "  rgbImg = np.zeros(shape=img.shape, dtype=\"uint8\")\n",
    "  for row in range(len(img)):\n",
    "    for col in range(len(img[row])):\n",
    "      if abs(int(img[row][col][0]) - int(hue)) > 5:\n",
    "        rgbImg[row][col] = [0,0,0]\n",
    "      else:\n",
    "        pix = pixelToRGB(img[row][col])\n",
    "        rgbImg[row][col] = pix\n",
    "  return rgbImg\n"
   ]
  },
  {
   "cell_type": "code",
   "execution_count": 191,
   "metadata": {},
   "outputs": [],
   "source": [
    "\n",
    "img = cv2.imread('./images/Picture3.png')\n",
    "\n",
    "def onTrackbar(val):\n",
    "  hsvImg = toHSV(img)\n",
    "  isolated = isolate(hsvImg, 360-val)\n",
    "  cv2.imshow('Processed Hue', isolated)\n",
    "\n",
    "cv2.namedWindow('Processed Hue')\n",
    "trackbarName = 'Threshold'\n",
    "cv2.createTrackbar('threshold', 'Processed Hue' , 0, 360, onTrackbar)\n",
    "cv2.imshow('Processed Hue', img) \n",
    "\n",
    "cv2.waitKey()\n",
    "cv2.destroyAllWindows()  \n"
   ]
  },
  {
   "cell_type": "markdown",
   "metadata": {},
   "source": [
    "## Part B\n",
    "\n",
    "### Color Detection\n",
    "\n"
   ]
  },
  {
   "cell_type": "code",
   "execution_count": 154,
   "metadata": {},
   "outputs": [],
   "source": [
    "def isolateThreshold(img, min, max):\n",
    "  rgbImg = np.zeros(shape=img.shape, dtype=\"uint8\")\n",
    "  for row in range(len(img)):\n",
    "    for col in range(int(len(img[row]))):\n",
    "      if pixelToHSV(img[row][col])[0] > min and pixelToHSV(img[row][col])[0] < max:\n",
    "        \n",
    "        rgbImg[row][col] = img[row][col]\n",
    "      else:\n",
    "        rgbImg[row][col] = [0,0,0]\n",
    "  return rgbImg"
   ]
  },
  {
   "cell_type": "code",
   "execution_count": 197,
   "metadata": {},
   "outputs": [
    {
     "name": "stdout",
     "output_type": "stream",
     "text": [
      "0\n",
      "1\n",
      "1\n",
      "1\n",
      "1\n",
      "2\n",
      "2\n"
     ]
    }
   ],
   "source": [
    "\n",
    "colorRanges = {\n",
    "  \"yellow\":[80, 200],\n",
    "  \"purple\": [300, 360],\n",
    "  \"red\": [240, 300]\n",
    "\n",
    "}\n",
    "colors = [\"yellow\", \"purple\", \"red\"]\n",
    "\n",
    "def changeColor(val):\n",
    "  print(val)\n",
    "  img = cv2.imread('./images/Picture3.png')\n",
    "  lower = colorRanges[colors[val]][0]\n",
    "  upper = colorRanges[colors[val]][1]\n",
    "  isolatedImg = isolateThreshold(img, lower, upper)\n",
    "  cv2.imshow('Processed Hue', isolatedImg)\n",
    "\n",
    "img = cv2.imread('./images/Picture3.png')\n",
    "isolatedImg = isolateThreshold(img, colorRanges[\"yellow\"][0], colorRanges[\"yellow\"][1])\n",
    "cv2.namedWindow('Processed Hue')\n",
    "trackbarName = 'Color'\n",
    "cv2.createTrackbar('color', 'Processed Hue' , 0, 2, changeColor)\n",
    "cv2.imshow('Processed Hue', isolatedImg) \n",
    "cv2.waitKey()\n",
    "cv2.destroyAllWindows() "
   ]
  }
 ],
 "metadata": {
  "kernelspec": {
   "display_name": "Python 3.10.6 ('csi4133')",
   "language": "python",
   "name": "python3"
  },
  "language_info": {
   "codemirror_mode": {
    "name": "ipython",
    "version": 3
   },
   "file_extension": ".py",
   "mimetype": "text/x-python",
   "name": "python",
   "nbconvert_exporter": "python",
   "pygments_lexer": "ipython3",
   "version": "3.10.6"
  },
  "orig_nbformat": 4,
  "vscode": {
   "interpreter": {
    "hash": "dcd146c02ac49975ceea5d380366912d5558ef9547c5533d0e4eab161d1a506c"
   }
  }
 },
 "nbformat": 4,
 "nbformat_minor": 2
}
