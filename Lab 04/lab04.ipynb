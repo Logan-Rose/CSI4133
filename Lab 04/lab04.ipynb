{
 "cells": [
  {
   "cell_type": "code",
   "execution_count": 1,
   "metadata": {},
   "outputs": [],
   "source": [
    "import cv2\n",
    "import numpy as np\n"
   ]
  },
  {
   "cell_type": "markdown",
   "metadata": {},
   "source": [
    "## Task A\n"
   ]
  },
  {
   "cell_type": "markdown",
   "metadata": {},
   "source": [
    "### Utility Methods"
   ]
  },
  {
   "cell_type": "code",
   "execution_count": 22,
   "metadata": {},
   "outputs": [],
   "source": [
    "def displayImage(img):\n",
    "  cv2.imshow('sample image',img)\n",
    "  cv2.waitKey(0)\n",
    "  cv2.destroyAllWindows() \n",
    "\n",
    "# Convert RGB image to HSV\n",
    "def toHSV(img):\n",
    "  hsvImg = np.zeros(shape=img.shape)\n",
    "  for row in range(len(img)):\n",
    "    for col in range(len(img[row])):\n",
    "      pixel = img[row][col]\n",
    "      r = pixel[0]/255\n",
    "      g = pixel[1]/255\n",
    "      b = pixel[2]/255\n",
    "\n",
    "      cMax = max(r,g,b)\n",
    "      cMin = min(r,g,b)\n",
    "\n",
    "      num = float((r-g)+(r-b))\n",
    "      denom = 2*np.sqrt(pow((r-g), 2) + (r-b)*(g-b))\n",
    "      if denom == 0.0:\n",
    "        h = 1\n",
    "      else:\n",
    "        h = np.arccos(num/denom) * 57.2958\n",
    "      if b > g:\n",
    "        h = 360-h\n",
    "      \n",
    "      if cMax == 0:\n",
    "        s = 0\n",
    "      else:\n",
    "        s = (cMax-cMin)/cMax\n",
    "      v = cMax\n",
    "      hsvImg[row][col] = [h,s,v]\n",
    "  return hsvImg\n",
    "\n",
    "# Convert HSV image to RGB\n",
    "def toRGB(img):\n",
    "  rgbImg = np.zeros(shape=img.shape)\n",
    "  for row in range(len(img)):\n",
    "    for col in range(len(img[row])):\n",
    "      pixel = img[row][col]\n",
    "      h = pixel[0]\n",
    "      s = pixel[1]\n",
    "      v = pixel[2]\n",
    "\n",
    "      c = v * s\n",
    "      x = c * (1-abs((h/60) % 2 -1))\n",
    "      m = v - c\n",
    "\n",
    "      if h >= 0 and h < 60:\n",
    "        r, g, b = c, x, 0\n",
    "      elif h >= 60 and h < 120:\n",
    "        r, g, b = x, c, 0\n",
    "      elif h >= 120 and h < 180:\n",
    "        r, g, b = 0, c, x\n",
    "      elif h >= 180 and h < 240:\n",
    "        r, g, b = 0, x, c\n",
    "      elif h >= 240 and h < 300:\n",
    "        r, g, b = x, 0, c\n",
    "      elif h >= 300 and h < 360:\n",
    "        r, g, b = c, 0, x\n",
    "      \n",
    "      r = (r + m) \n",
    "      g = (g + m) \n",
    "      b = (b + m)\n",
    "\n",
    "      rgbImg[row][col] = [int(r),int(g),int(b)]\n",
    "  return rgbImg\n",
    "\n",
    "def isolate(img, thresh):\n",
    "  rgbImg = np.zeros(shape=img.shape)\n",
    "  for row in range(len(img)):\n",
    "    for col in range(len(img[row])):\n",
    "      pixel = img[row][col]\n",
    "      h = pixel[0]\n",
    "      s = pixel[1]\n",
    "      v = pixel[2]\n",
    "\n",
    "      if abs(h - thresh) > 1:\n",
    "        rgbImg[row][col] = [0,0,0]\n",
    "      else:\n",
    "        rgbImg[row][col] = [h,s,v]\n",
    "  return rgbImg\n",
    "    \n"
   ]
  },
  {
   "cell_type": "code",
   "execution_count": 3,
   "metadata": {},
   "outputs": [],
   "source": [
    "# img = cv2.imread('./images/Picture2.png')\n",
    "# hsvImg = toHSV(img)\n",
    "# print(img[100][100])\n",
    "# print(hsvImg[100][100])\n",
    "\n",
    "\n",
    "\n",
    "# isolated = isolate(hsvImg, 300)\n",
    "# print(isolated[100][100])\n",
    "# rgbAgain = toRGB(isolated)\n",
    "# print(rgbAgain[100][100])\n",
    "# displayImg(img)\n",
    "# displayImg(hsvImg)\n",
    "# displayImg(rgbAgain)\n",
    "\n"
   ]
  },
  {
   "cell_type": "code",
   "execution_count": 23,
   "metadata": {},
   "outputs": [],
   "source": [
    "img = cv2.imread('./images/Picture2.png')\n",
    "hsvImg = toHSV(img)\n",
    "def onTrackbar(val):\n",
    "  isolated = isolate(hsvImg, val)\n",
    "  cv2.imshow('Processed Hue', isolated)\n",
    "  \n",
    "\n",
    "\n",
    "\n",
    "cv2.namedWindow('Processed Hue')\n",
    "trackbarName = 'Threshold'\n",
    "cv2.createTrackbar('threshold', 'Processed Hue' , 0, 360, onTrackbar)\n",
    "cv2.imshow('Processed Hue', img) \n",
    "\n",
    "\n",
    "cv2.waitKey()\n",
    "cv2.destroyAllWindows() \n"
   ]
  },
  {
   "cell_type": "code",
   "execution_count": null,
   "metadata": {},
   "outputs": [],
   "source": []
  }
 ],
 "metadata": {
  "kernelspec": {
   "display_name": "Python 3.10.6 ('csi4133')",
   "language": "python",
   "name": "python3"
  },
  "language_info": {
   "codemirror_mode": {
    "name": "ipython",
    "version": 3
   },
   "file_extension": ".py",
   "mimetype": "text/x-python",
   "name": "python",
   "nbconvert_exporter": "python",
   "pygments_lexer": "ipython3",
   "version": "3.10.6"
  },
  "orig_nbformat": 4,
  "vscode": {
   "interpreter": {
    "hash": "dcd146c02ac49975ceea5d380366912d5558ef9547c5533d0e4eab161d1a506c"
   }
  }
 },
 "nbformat": 4,
 "nbformat_minor": 2
}
