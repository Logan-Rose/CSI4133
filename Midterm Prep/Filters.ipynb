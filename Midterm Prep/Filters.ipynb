{
 "cells": [
  {
   "cell_type": "code",
   "execution_count": 1,
   "metadata": {},
   "outputs": [],
   "source": [
    "import cv2 as cv\n",
    "import numpy as np"
   ]
  },
  {
   "cell_type": "markdown",
   "metadata": {},
   "source": [
    "## Load Image"
   ]
  },
  {
   "cell_type": "code",
   "execution_count": 87,
   "metadata": {},
   "outputs": [],
   "source": [
    "def displayImg(img):\n",
    "  cv.imshow('Detected Circles',img)\n",
    "  cv.waitKey(0)\n",
    "  cv.destroyAllWindows()\n",
    "\n",
    "image = cv.imread('./images/Img1.png', cv.IMREAD_GRAYSCALE)\n",
    "\n",
    "displayImg(image)"
   ]
  },
  {
   "cell_type": "markdown",
   "metadata": {},
   "source": [
    "## Blur"
   ]
  },
  {
   "cell_type": "code",
   "execution_count": 89,
   "metadata": {},
   "outputs": [],
   "source": [
    "def blur(img, blurDepth):\n",
    "  blurred = np.zeros(img.shape, dtype=\"uint8\")\n",
    "  for i in range(len(img)):\n",
    "    for j in range(len(img[0])):\n",
    "      runningTotal = 0\n",
    "      pixelsSeen = 0\n",
    "      for x in range(max(0, i-blurDepth), min(len(img), i+blurDepth)):\n",
    "        for y in range(max(0, j-blurDepth), min(len(img[0]), j+blurDepth)):\n",
    "          pixelsSeen +=1\n",
    "          runningTotal += int(img[x][y])\n",
    "      blurred[i][j] = int(runningTotal//pixelsSeen)\n",
    "  return blurred\n",
    "image = cv.imread('./images/Img1.png', cv.IMREAD_GRAYSCALE)\n",
    "\n",
    "\n",
    "displayImg(image)\n",
    "blurred = blur(image, 3)\n",
    "displayImg(blurred)"
   ]
  },
  {
   "cell_type": "markdown",
   "metadata": {},
   "source": [
    "### Median Filter"
   ]
  },
  {
   "cell_type": "code",
   "execution_count": 91,
   "metadata": {},
   "outputs": [
    {
     "name": "stdout",
     "output_type": "stream",
     "text": [
      "uint8\n",
      "[[255  56  57 ...  46  45  45]\n",
      " [254  55  56 ...  47  46  46]\n",
      " [254  55  55 ...  49  46  46]\n",
      " ...\n",
      " [255  22  22 ...  47  51  53]\n",
      " [254  24  24 ...  47  51  51]\n",
      " [254  24  24 ...  47  51  51]]\n"
     ]
    }
   ],
   "source": [
    "def median(img, blurDepth):\n",
    "  blurred = np.zeros(img.shape, dtype=\"uint8\")\n",
    "  for i in range(len(img)):\n",
    "    for j in range(len(img[0])):\n",
    "      pixelsSeen = []\n",
    "      for x in range(max(0, i-blurDepth), min(len(img), i+blurDepth)):\n",
    "        for y in range(max(0, j-blurDepth), min(len(img[0]), j+blurDepth)):\n",
    "          pixelsSeen.append(img[x][y])\n",
    "      blurred[i][j] = sorted(pixelsSeen)[len(pixelsSeen)//2]\n",
    "  return blurred\n",
    "image = cv.imread('./images/Img1.png', cv.IMREAD_GRAYSCALE)\n",
    "\n",
    "print(image.dtype)\n",
    "displayImg(image)\n",
    "blurred = median(image, 2)\n",
    "print(blurred)\n",
    "displayImg(blurred)"
   ]
  },
  {
   "cell_type": "markdown",
   "metadata": {},
   "source": [
    "## Sharpening\n",
    "\n",
    "### Laplacian Mask"
   ]
  },
  {
   "cell_type": "code",
   "execution_count": 134,
   "metadata": {},
   "outputs": [
    {
     "name": "stdout",
     "output_type": "stream",
     "text": [
      "uint8\n"
     ]
    }
   ],
   "source": [
    "def laplacian(img):\n",
    "  sharpened = np.zeros(img.shape, dtype=\"uint8\")\n",
    "  for i in range(1, len(img)-1):\n",
    "    for j in range(1, len(img[0])-1):\n",
    "      maskValue = int(img[i+1][j]) + int(img[i-1][j]) + int(img[i][j+1]) + int(img[i][j-1]) - 4*int(img[i][j])\n",
    "      if maskValue < 0:\n",
    "        sharpened[i][j] = 255\n",
    "      else:\n",
    "        sharpened[i][j] = 0\n",
    "\n",
    "  return sharpened\n",
    "image = cv.imread('./images/Img1.png', cv.IMREAD_GRAYSCALE)\n",
    "\n",
    "print(image.dtype)\n",
    "displayImg(image)\n",
    "sharpened = laplacian(median(image, 3))\n",
    "displayImg(sharpened)"
   ]
  },
  {
   "cell_type": "markdown",
   "metadata": {},
   "source": [
    "### Robert Cross"
   ]
  },
  {
   "cell_type": "code",
   "execution_count": 119,
   "metadata": {},
   "outputs": [
    {
     "name": "stdout",
     "output_type": "stream",
     "text": [
      "uint8\n"
     ]
    }
   ],
   "source": [
    "def robertCross(img):\n",
    "  sharpened = np.zeros(img.shape, dtype=\"uint8\")\n",
    "  for i in range(1, len(img)-1):\n",
    "    for j in range(1, len(img[0])-1):\n",
    "      maskValue = int(img[i][j]) - int(img[i+1][j+1])\n",
    "      sharpened[i][j] = max(int(img[i][j]) - abs(maskValue), 0)\n",
    "\n",
    "  return sharpened\n",
    "image = cv.imread('./images/Img1.png', cv.IMREAD_GRAYSCALE)\n",
    "\n",
    "print(image.dtype)\n",
    "displayImg(image)\n",
    "sharpened = robertCross(image)\n",
    "displayImg(sharpened)"
   ]
  },
  {
   "cell_type": "code",
   "execution_count": 162,
   "metadata": {},
   "outputs": [
    {
     "name": "stdout",
     "output_type": "stream",
     "text": [
      "uint8\n"
     ]
    },
    {
     "ename": "",
     "evalue": "",
     "output_type": "error",
     "traceback": [
      "\u001b[1;31mThe Kernel crashed while executing code in the the current cell or a previous cell. Please review the code in the cell(s) to identify a possible cause of the failure. Click <a href='https://aka.ms/vscodeJupyterKernelCrash'>here</a> for more info. View Jupyter <a href='command:jupyter.viewOutput'>log</a> for further details."
     ]
    }
   ],
   "source": [
    "def sobel(img):\n",
    "  sharpened = np.zeros(img.shape, dtype=\"uint8\")\n",
    "  for i in range(1, len(img)-1):\n",
    "    for j in range(1, len(img[0])-1):\n",
    "      pix0 = -1 * int(img[i-1][j-1])\n",
    "      pix1 = -2 * int(img[i-1][j])\n",
    "      pix2 = -1 * int(img[i-1][j+1])\n",
    "      pix3 = 0\n",
    "      pix4 = 0\n",
    "      pix5 = 0\n",
    "      pix6 = int(img[i+1][j-1])\n",
    "      pix7 = 2 * int(img[i+1][j])\n",
    "      pix8 = int(img[i+1][j+1])\n",
    "\n",
    "      maskValue = (pix0+pix1 +pix2 +pix3 +pix4 +pix5 +pix6 +pix7 +pix8) // 9\n",
    "      sharpened[i][j] = int(img[i][j]) - maskValue\n",
    "\n",
    "  return sharpened \n",
    "image = cv.imread('./images/Img1.png', cv.IMREAD_GRAYSCALE)\n",
    "\n",
    "print(image.dtype)\n",
    "displayImg(image) \n",
    "sharpened = sobel(image)\n",
    "displayImg(sharpened)"
   ]
  },
  {
   "cell_type": "code",
   "execution_count": null,
   "metadata": {},
   "outputs": [],
   "source": []
  },
  {
   "cell_type": "code",
   "execution_count": null,
   "metadata": {},
   "outputs": [],
   "source": []
  }
 ],
 "metadata": {
  "kernelspec": {
   "display_name": "Python 3.10.6 ('csi4133')",
   "language": "python",
   "name": "python3"
  },
  "language_info": {
   "codemirror_mode": {
    "name": "ipython",
    "version": 3
   },
   "file_extension": ".py",
   "mimetype": "text/x-python",
   "name": "python",
   "nbconvert_exporter": "python",
   "pygments_lexer": "ipython3",
   "version": "3.10.6"
  },
  "orig_nbformat": 4,
  "vscode": {
   "interpreter": {
    "hash": "dcd146c02ac49975ceea5d380366912d5558ef9547c5533d0e4eab161d1a506c"
   }
  }
 },
 "nbformat": 4,
 "nbformat_minor": 2
}
